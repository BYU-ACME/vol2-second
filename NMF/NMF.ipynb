{
 "cells": [
  {
   "attachments": {},
   "cell_type": "markdown",
   "metadata": {},
   "source": [
    "# Volume 2: Non-negative Matrix Factorization\n",
    "    <Name>\n",
    "    <Class>\n",
    "    <Date>"
   ]
  },
  {
   "cell_type": "code",
   "execution_count": null,
   "metadata": {},
   "outputs": [],
   "source": [
    "import numpy as np\n",
    "import cvxpy as cp\n",
    "from matplotlib import pyplot as plt\n",
    "import os\n",
    "import zipfile\n",
    "from imageio.v3 import imread\n",
    "import warnings\n",
    "warnings.filterwarnings(\"ignore\")\n",
    "from sklearn.decomposition import NMF"
   ]
  },
  {
   "attachments": {},
   "cell_type": "markdown",
   "metadata": {},
   "source": [
    "## Problems 1-2"
   ]
  },
  {
   "cell_type": "code",
   "execution_count": 2,
   "metadata": {},
   "outputs": [],
   "source": [
    "class NMFRecommender:\n",
    "\n",
    "    def __init__(self, random_state=15, rank=3, maxiter=200, tol=1e-3):\n",
    "        \"\"\"The parameter values for the algorithm\"\"\"\n",
    "\n",
    "        raise NotImplementedError('Problem 1 incomplete')\n",
    "        \n",
    "    \n",
    "    def initialize_matrices(self, m, n):\n",
    "        \"\"\"randomly initialize the W and H matrices,\"\"\"\n",
    "\n",
    "        raise NotImplementedError('Problem 1 incomplete')\n",
    "\n",
    "      \n",
    "    def fit(self, V):\n",
    "        \"\"\"Fits W and H weight matrices using CVXPY\"\"\"\n",
    "\n",
    "        raise NotImplementedError('Problem 2 incomplete')\n",
    "\n",
    "\n",
    "    def reconstruct(self):\n",
    "        \"\"\"Reconstruct V matrix for comparison against the original V\"\"\"\n",
    "\n",
    "        raise NotImplementedError('Problem 2 incomplete')\n"
   ]
  },
  {
   "attachments": {},
   "cell_type": "markdown",
   "metadata": {},
   "source": [
    "## Problem 3"
   ]
  },
  {
   "cell_type": "code",
   "execution_count": null,
   "metadata": {},
   "outputs": [],
   "source": [
    "def prob3():\n",
    "    \"\"\"Run NMF recommender on the grocery store example\"\"\"\n",
    "    V = np.array(\n",
    "        [\n",
    "            [0, 1, 0, 1, 2, 2],\n",
    "            [2, 3, 1, 1, 2, 2],\n",
    "            [1, 1, 1, 0, 1, 1],\n",
    "            [0, 2, 3, 4, 1, 1],\n",
    "            [0, 0, 0, 0, 1, 0]\n",
    "        ]\n",
    "    )\n",
    "\n",
    "    raise NotImplementedError(\"Problem 3 incomplete\")"
   ]
  },
  {
   "cell_type": "code",
   "execution_count": null,
   "metadata": {},
   "outputs": [],
   "source": [
    "# Implement prob 3 here\n",
    "prob3()"
   ]
  },
  {
   "attachments": {},
   "cell_type": "markdown",
   "metadata": {},
   "source": [
    "## Problem 4"
   ]
  },
  {
   "cell_type": "code",
   "execution_count": null,
   "metadata": {},
   "outputs": [],
   "source": [
    "def get_faces(path=\"./faces94.zip\"):\n",
    "    '''\n",
    "    Traverse the specified directory (or zip file) to obtain one image from each subfolder,\n",
    "    convert each image to grayscale, flatten it, and stack them as columns\n",
    "    of a data matrix.\n",
    "\n",
    "    Parameters\n",
    "    ----------\n",
    "    path : str\n",
    "        Directory path (or zip archive) containing the faces94 dataset.\n",
    "\n",
    "    Returns\n",
    "    -------\n",
    "    V : ndarray\n",
    "        Each column of V is a vectorized face image (flattened to 1D).\n",
    "    '''\n",
    "    faces = []        # List to store flattened face images.\n",
    "    subs = set()      # Track which subfolders have been sampled.\n",
    "\n",
    "    # Open the zip file containing the dataset.\n",
    "    with zipfile.ZipFile(path, 'r') as z:\n",
    "        for info in z.infolist():\n",
    "            # Skip directories (only process files).\n",
    "            if info.is_dir():\n",
    "                continue\n",
    "\n",
    "            # Only take the *first* image from each subdirectory.\n",
    "            dn = os.path.dirname(info.filename)\n",
    "            if dn in subs:\n",
    "                continue\n",
    "\n",
    "            # Only process jpg images.\n",
    "            if not info.filename.lower().endswith(\"jpg\"):\n",
    "                continue\n",
    "\n",
    "            subs.add(dn)\n",
    "\n",
    "            # Read the image from the archive, convert to grayscale, flatten.\n",
    "            face = imread(z.read(info.filename)).mean(axis=2).ravel()\n",
    "            faces.append(face)\n",
    "    \n",
    "    # Stack face vectors as columns in matrix V.\n",
    "    return np.transpose(faces)\n",
    "\n",
    "def show(image, m=200, n=180, plt_show=False):\n",
    "    \"\"\"Plot the flattened grayscale 'image' of width 'w' and height 'h'.\n",
    "\n",
    "    Parameters\n",
    "    ----------\n",
    "    image : ((mn,) ndarray)\n",
    "        A flattened image.\n",
    "    m : int\n",
    "        The original number of rows in the image.\n",
    "    n : int\n",
    "        The original number of columns in the image.\n",
    "    plt_show : bool\n",
    "        if True, call plt.show() at the end\n",
    "\n",
    "    Returns\n",
    "    -------\n",
    "    None\n",
    "    \"\"\"\n",
    "    # Scale image\n",
    "    image = image / 255\n",
    "    # Reshape image\n",
    "    image = np.reshape(image, (m, n))\n",
    "    # Show image\n",
    "    plt.imshow(image, cmap=\"gray\")\n",
    "\n",
    "    if plt_show:\n",
    "        plt.show()"
   ]
  },
  {
   "cell_type": "code",
   "execution_count": 4,
   "metadata": {},
   "outputs": [],
   "source": [
    "def prob4():\n",
    "    \"\"\"Gridsearch over rank, alpha and l1_ratio values to reconstruct \n",
    "    image using NMF. Plot all reconstructed images. Determine which set \n",
    "    of paramenters best reconstructs the face\n",
    "    \"\"\"\n",
    "    raise NotImplementedError(\"Problem 4 incomplete\")\n"
   ]
  },
  {
   "cell_type": "code",
   "execution_count": null,
   "metadata": {},
   "outputs": [],
   "source": [
    "# Implement prob 4 here\n",
    "prob4()"
   ]
  },
  {
   "attachments": {},
   "cell_type": "markdown",
   "metadata": {},
   "source": [
    "The parameters that reconstruct the face the best are:"
   ]
  },
  {
   "attachments": {},
   "cell_type": "markdown",
   "metadata": {},
   "source": [
    "## Problem 5"
   ]
  },
  {
   "cell_type": "code",
   "execution_count": null,
   "metadata": {},
   "outputs": [],
   "source": [
    "def prob5():\n",
    "    \"\"\"Find the 10 basis faces with the largest coefficients corresponding \n",
    "    to the the 2nd and 12th faces in the dataset. Plot these basis faces \n",
    "    along with the original image using subplots\n",
    "    \"\"\"\n",
    "    raise NotImplementedError(\"Problem 5 incomplete\")"
   ]
  },
  {
   "cell_type": "code",
   "execution_count": null,
   "metadata": {},
   "outputs": [],
   "source": [
    "# Implement prob 5 here\n",
    "prob5()"
   ]
  },
  {
   "attachments": {},
   "cell_type": "markdown",
   "metadata": {},
   "source": [
    "Write a sentence or two about the differences you notice in the features of the basis faces:\n"
   ]
  }
 ],
 "metadata": {
  "interpreter": {
   "hash": "916dbcbb3f70747c44a77c7bcd40155683ae19c65e1c03b4aa3499c5328201f1"
  },
  "kernelspec": {
   "display_name": "Python 3.8.10 64-bit",
   "name": "python3"
  },
  "language_info": {
   "codemirror_mode": {
    "name": "ipython",
    "version": 3
   },
   "file_extension": ".py",
   "mimetype": "text/x-python",
   "name": "python",
   "nbconvert_exporter": "python",
   "pygments_lexer": "ipython3",
   "version": "3.10.13"
  },
  "orig_nbformat": 4
 },
 "nbformat": 4,
 "nbformat_minor": 2
}
